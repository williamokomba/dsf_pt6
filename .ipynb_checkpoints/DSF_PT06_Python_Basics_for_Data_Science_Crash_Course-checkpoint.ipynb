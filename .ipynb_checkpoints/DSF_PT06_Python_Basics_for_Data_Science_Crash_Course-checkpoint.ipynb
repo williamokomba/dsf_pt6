{
 "cells": [
  {
   "cell_type": "markdown",
   "metadata": {
    "id": "UMNPnf2i5SWr"
   },
   "source": [
    "# Python Basics for Data Science"
   ]
  },
  {
   "cell_type": "markdown",
   "metadata": {
    "id": "jD-9Sma-ruMm"
   },
   "source": [
    "# 1. Variables, Printing and Comments"
   ]
  },
  {
   "cell_type": "markdown",
   "metadata": {
    "id": "DJeVFrBtw_kA"
   },
   "source": [
    "## 1.1 Variables"
   ]
  },
  {
   "cell_type": "markdown",
   "metadata": {
    "id": "JzTFFLH9hofg"
   },
   "source": [
    "A **python variable** is a reserved memory location that can be used to store values. Use to temporarily store information before manipulation."
   ]
  },
  {
   "cell_type": "markdown",
   "metadata": {
    "id": "wp_BS7DmxDcu"
   },
   "source": [
    "#### <font color=\"blue\">Examples</font>"
   ]
  },
  {
   "cell_type": "markdown",
   "metadata": {
    "id": "aFlF1bDQxHQO"
   },
   "source": [
    "##### <font color=\"blue\">Example 1</font>"
   ]
  },
  {
   "cell_type": "code",
   "execution_count": null,
   "metadata": {
    "id": "XPERUCVo5aTx"
   },
   "outputs": [],
   "source": [
    "# Example 1\n",
    "# ---\n",
    "# Assign the value 10 to the variable named a\n",
    "# ---\n",
    "# OUR CODE GOES BELOW\n",
    "#\n",
    "a = 10"
   ]
  },
  {
   "cell_type": "markdown",
   "metadata": {
    "id": "_Czt2xj3xKtQ"
   },
   "source": [
    "##### <font color=\"blue\">Example 2</font>"
   ]
  },
  {
   "cell_type": "code",
   "execution_count": null,
   "metadata": {
    "id": "u6IDQwRc5bWn"
   },
   "outputs": [],
   "source": [
    "# Example 2\n",
    "# ---\n",
    "# Again, let's assign the value \"Earth\" to the variable planet.\n",
    "# ---\n",
    "# OUR CODE GOES BELOW\n",
    "#\n",
    "planet = \"Earth\""
   ]
  },
  {
   "cell_type": "markdown",
   "metadata": {
    "id": "bCEkxrxeQu2v"
   },
   "source": [
    "##### <font color=\"blue\">Challenge</font>`"
   ]
  },
  {
   "cell_type": "code",
   "execution_count": null,
   "metadata": {
    "id": "lJL0nm-kQeyX"
   },
   "outputs": [],
   "source": [
    "# ---\n",
    "# let's assign the value Moringa to the variable my_collage.\n",
    "# ---\n",
    "# OUR CODE GOES BELOW\n",
    "#"
   ]
  },
  {
   "cell_type": "code",
   "execution_count": null,
   "metadata": {
    "id": "FHLWzRe0RPib"
   },
   "outputs": [],
   "source": [
    "# ---\n",
    "# let's assign the value your name to the variable name.\n",
    "# ---\n",
    "# OUR CODE GOES BELOW\n",
    "#"
   ]
  },
  {
   "cell_type": "markdown",
   "metadata": {
    "id": "AZaNOe10xhBd"
   },
   "source": [
    "## 1.2 Printing"
   ]
  },
  {
   "cell_type": "markdown",
   "metadata": {
    "id": "rAZBWVKUjBKS"
   },
   "source": [
    "The **print()** function prints the specified message to the screen. This function is used to reveal what is stored in a variable."
   ]
  },
  {
   "cell_type": "markdown",
   "metadata": {
    "id": "T8474dmmmBii"
   },
   "source": [
    "#### <font color=\"blue\">Examples</font>"
   ]
  },
  {
   "cell_type": "markdown",
   "metadata": {
    "id": "KoqcSYwQxtRK"
   },
   "source": [
    "##### <font color=\"blue\">Example 1</font>"
   ]
  },
  {
   "cell_type": "code",
   "execution_count": null,
   "metadata": {
    "id": "ai3ZxHpcxw-J"
   },
   "outputs": [],
   "source": [
    "# Example 1\n",
    "# ---\n",
    "# Question: Print the text \"Hello!\" in the output console of this cell\n",
    "# ---\n",
    "# OUR CODE GOES BELOW\n",
    "#\n",
    "print(\"Hello!\")"
   ]
  },
  {
   "cell_type": "markdown",
   "metadata": {
    "id": "b93FPbs0xuLv"
   },
   "source": [
    "##### <font color=\"blue\">Example 2</font>"
   ]
  },
  {
   "cell_type": "code",
   "execution_count": null,
   "metadata": {
    "id": "HM9ouOKxxxh1"
   },
   "outputs": [],
   "source": [
    "# Example 2\n",
    "# ---\n",
    "# Question: Print the text \"Hello william!\" and defining a whitespace as a seperator\n",
    "# ---\n",
    "# OUR CODE GOES BELOW\n",
    "#\n",
    "print(\"Hello\", \"William!\", sep=\"-\")"
   ]
  },
  {
   "cell_type": "markdown",
   "metadata": {
    "id": "QQ57Q0gtRoxc"
   },
   "source": [
    "##### <font color=\"blue\">Challenge</font>"
   ]
  },
  {
   "cell_type": "code",
   "execution_count": null,
   "metadata": {
    "id": "4c1sW8WdRoA1"
   },
   "outputs": [],
   "source": [
    "# Print the text  i love camping in the output console of this cell\n",
    "# ---\n",
    "# OUR CODE GOES BELOW\n",
    "#\n"
   ]
  },
  {
   "cell_type": "code",
   "execution_count": null,
   "metadata": {
    "id": "Lvf9pW3dSNk1"
   },
   "outputs": [],
   "source": [
    "# Question: Print the text \"I love data sceince\" and defining a whitespace as a seperator\n",
    "# ---\n",
    "# OUR CODE GOES BELOW\n",
    "#\n"
   ]
  },
  {
   "cell_type": "markdown",
   "metadata": {
    "id": "1KGAN1h-rhUT"
   },
   "source": [
    "## 1.3 Comments"
   ]
  },
  {
   "cell_type": "markdown",
   "metadata": {
    "id": "w4zEi3X-iSyT"
   },
   "source": [
    "**Comments** are simple notes used in our code to provide explanatory information\n",
    "about the code. Used to explain complex code."
   ]
  },
  {
   "cell_type": "markdown",
   "metadata": {
    "id": "6mfDGqy38176"
   },
   "source": [
    "#### <font color=\"blue\">Example</font>"
   ]
  },
  {
   "cell_type": "markdown",
   "metadata": {
    "id": "BDggmS7ur3Wg"
   },
   "source": [
    "##### <font color=\"blue\">Example 1:</font> Single Line Comments"
   ]
  },
  {
   "cell_type": "code",
   "execution_count": null,
   "metadata": {
    "id": "Chy3pmP9r9Ch"
   },
   "outputs": [],
   "source": [
    "# the following variable stores the value 56\n",
    "score = 56"
   ]
  },
  {
   "cell_type": "markdown",
   "metadata": {
    "id": "_dZTXiTLS58B"
   },
   "source": [
    "##### <font color=\"blue\">Challenge</font>\n",
    "\n",
    "Do Research on how you can comment multiple lines and provide your finding in the below code text.\n",
    "\n",
    "Note: all the 2 texts should be commented in the best way possible."
   ]
  },
  {
   "cell_type": "code",
   "execution_count": null,
   "metadata": {
    "id": "4bPxCOPlSn9I"
   },
   "outputs": [],
   "source": [
    "\n",
    "I want to learn Data science\n",
    "The code challenge is amazing\n",
    "I will strive to write a clean code\n"
   ]
  },
  {
   "cell_type": "markdown",
   "metadata": {
    "id": "qOcy-X35HV_t"
   },
   "source": [
    "# 2. Arithmetic Operators"
   ]
  },
  {
   "cell_type": "markdown",
   "metadata": {
    "id": "GznVfEmDjC7A"
   },
   "source": [
    "**Arithmetic operators** are mathematical functions that take two values and\n",
    "perform a calculation on them."
   ]
  },
  {
   "cell_type": "markdown",
   "metadata": {
    "id": "HX5OKWTeH3y7"
   },
   "source": [
    "#### <font color=\"blue\">Examples</font>"
   ]
  },
  {
   "cell_type": "markdown",
   "metadata": {
    "id": "V3vakOO6H9Vh"
   },
   "source": [
    "##### <font color=\"blue\">Example 1"
   ]
  },
  {
   "cell_type": "code",
   "execution_count": null,
   "metadata": {
    "id": "LzONiSsfHAmy"
   },
   "outputs": [],
   "source": [
    "# Example 1\n",
    "# ---\n",
    "#\n",
    "\n",
    "# Declare our variables\n",
    "a = 40\n",
    "b = 10\n",
    "\n",
    "# Addition\n",
    "c = a + b\n",
    "\n",
    "# Printing out our results\n",
    "print(c)"
   ]
  },
  {
   "cell_type": "markdown",
   "metadata": {
    "id": "RMTv6MI1IIT_"
   },
   "source": [
    "##### <font color=\"blue\">Example 2"
   ]
  },
  {
   "cell_type": "code",
   "execution_count": null,
   "metadata": {
    "colab": {
     "base_uri": "https://localhost:8080/"
    },
    "id": "JPCyGVKjICxP",
    "outputId": "63015f54-e71e-4976-b8c3-2cd7a5bdbeef"
   },
   "outputs": [
    {
     "name": "stdout",
     "output_type": "stream",
     "text": [
      "4.0\n"
     ]
    }
   ],
   "source": [
    "# Example 2\n",
    "# ---\n",
    "# We can perform an division operation below\n",
    "# ---\n",
    "#\n",
    "d = a / b\n",
    "\n",
    "# Printing out our result\n",
    "# ---\n",
    "#\n",
    "print(d)"
   ]
  },
  {
   "cell_type": "markdown",
   "metadata": {
    "id": "HHygJvHMIPgh"
   },
   "source": [
    "##### <font color=\"blue\">Example 3"
   ]
  },
  {
   "cell_type": "code",
   "execution_count": null,
   "metadata": {
    "id": "FFONu-_VIO1k"
   },
   "outputs": [],
   "source": [
    "# Example 3\n",
    "# ---\n",
    "#\n",
    "\n",
    "# Declaring our variables\n",
    "# ---\n",
    "#\n",
    "a = 40\n",
    "b = 10\n",
    "\n",
    "# Using the increment operator\n",
    "# ---\n",
    "# a = a + b ---> a += b\n",
    "a += b\n",
    "\n",
    "# Printing out our result\n",
    "# ---\n",
    "#\n",
    "print(a)"
   ]
  },
  {
   "cell_type": "markdown",
   "metadata": {
    "id": "rcN9Q9rPUUO_"
   },
   "source": [
    "##### <font color=\"blue\">Challenge</font>\n",
    "\n",
    "Do research"
   ]
  },
  {
   "cell_type": "code",
   "execution_count": null,
   "metadata": {
    "id": "GiNwAfbwUlIe"
   },
   "outputs": [],
   "source": [
    "# Declare an int variables\n",
    "\n",
    "# use modulus to check on whether it is an even or odd number\n",
    "\n",
    "\n",
    "# Printing out our results"
   ]
  },
  {
   "cell_type": "code",
   "execution_count": null,
   "metadata": {
    "id": "Ry3KRZvGW8aU"
   },
   "outputs": [],
   "source": [
    "\n",
    "# We can perform an multiplication operation below\n",
    "# ---\n",
    "#declare  1 float and 1 int variable\n",
    "\n",
    "\n",
    "#Multiply the  the 2 variables\n",
    "\n",
    "\n",
    "# Printing out our result\n",
    "# ---\n",
    "\n"
   ]
  },
  {
   "cell_type": "markdown",
   "metadata": {
    "id": "dqhVm_8kN2tl"
   },
   "source": [
    "# 3. Data Types"
   ]
  },
  {
   "cell_type": "markdown",
   "metadata": {
    "id": "bRA3zsr8jnus"
   },
   "source": [
    "A **data type** is a classification that allows specifying which type of value\n",
    "a variable contains. It defines the operations that can be done on the data and how the data can be stored.\n",
    "\n",
    "- **Integer** value is a positive or negative whole number i.e. -1 or 4.\n",
    "- **String** value is a sequence of characters. Strings are contained in either single or double quotes i.e. \"Jane\" or 'Janet'.\n",
    "- **Float** value is a real number with floating-point representation i.e. 10.5 or 55.69\n"
   ]
  },
  {
   "cell_type": "markdown",
   "metadata": {
    "id": "VtTVm3cvN_lP"
   },
   "source": [
    "#### <font color=\"blue\">Examples</font>"
   ]
  },
  {
   "cell_type": "markdown",
   "metadata": {
    "id": "qIxhQwTHOIjm"
   },
   "source": [
    "##### <font color=\"blue\">Example 1"
   ]
  },
  {
   "cell_type": "code",
   "execution_count": null,
   "metadata": {
    "id": "n7APi3z1NtN0"
   },
   "outputs": [],
   "source": [
    "# Example 1\n",
    "# ---\n",
    "# Dynamically-inferred types\n",
    "# ---\n",
    "#\n",
    "# Integer data type\n",
    "# ---\n",
    "#\n",
    "x = 50\n",
    "print(type(x))\n"
   ]
  },
  {
   "cell_type": "code",
   "execution_count": null,
   "metadata": {
    "id": "q7K8b7ZAXrbo"
   },
   "outputs": [],
   "source": [
    "# String data type\n",
    "# ---\n",
    "#\n",
    "x = '30'\n",
    "print(type(x))"
   ]
  },
  {
   "cell_type": "code",
   "execution_count": null,
   "metadata": {
    "id": "uNcdWWCTX05w"
   },
   "outputs": [],
   "source": [
    "# Float data type\n",
    "# ---\n",
    "#\n",
    "x = 90.0\n",
    "print(type(x))"
   ]
  },
  {
   "cell_type": "markdown",
   "metadata": {
    "id": "JdKpybEFOJOM"
   },
   "source": [
    "##### <font color=\"blue\">Example 2"
   ]
  },
  {
   "cell_type": "code",
   "execution_count": null,
   "metadata": {
    "id": "2Al_wNeZOE7t"
   },
   "outputs": [],
   "source": [
    "# Example 2\n",
    "# ---\n",
    "# Adding an value of integer datatype with a value of string data type.\n",
    "# ---\n",
    "#\n",
    "x = 40\n",
    "y = '4'\n",
    "\n",
    "print(x + int(y))"
   ]
  },
  {
   "cell_type": "markdown",
   "metadata": {
    "id": "XJoETlR_OKHt"
   },
   "source": [
    "##### <font color=\"blue\">Example 3"
   ]
  },
  {
   "cell_type": "code",
   "execution_count": null,
   "metadata": {
    "id": "CmPAy-efOEx-"
   },
   "outputs": [],
   "source": [
    "# Example 3\n",
    "# ---\n",
    "# Automatic type-conversion (int to float)\n",
    "# ---\n",
    "#\n",
    "x = 20\n",
    "print(type(x))\n",
    "\n",
    "x += 5.0 # x = x + 5.0\n",
    "print(x)\n",
    "\n",
    "print(type(x))"
   ]
  },
  {
   "cell_type": "markdown",
   "metadata": {
    "id": "8w3U0HVEOccy"
   },
   "source": [
    "##### <font color=\"blue\">Example 4"
   ]
  },
  {
   "cell_type": "code",
   "execution_count": null,
   "metadata": {
    "id": "o_qQW55lOeY5"
   },
   "outputs": [],
   "source": [
    "# Example 4\n",
    "# ---\n",
    "# Dividing Integers results to a float\n",
    "# ---\n",
    "#\n",
    "a = 40\n",
    "b = 5\n",
    "\n",
    "print(a/b)\n",
    "print(b/a)"
   ]
  },
  {
   "cell_type": "markdown",
   "metadata": {
    "id": "80kHsk0gQiX5"
   },
   "source": [
    "# 4. Lists"
   ]
  },
  {
   "cell_type": "markdown",
   "metadata": {
    "id": "5enNElPNkEqk"
   },
   "source": [
    "A **list** is a compound data type that allows for the storage of items of different data types. We use lists to store a set of related data."
   ]
  },
  {
   "cell_type": "markdown",
   "metadata": {
    "id": "r6CjXb92QsKs"
   },
   "source": [
    "#### <font color=\"blue\">Examples</font>"
   ]
  },
  {
   "cell_type": "markdown",
   "metadata": {
    "id": "_We_Aif3Q_n5"
   },
   "source": [
    "##### <font color=\"blue\">Example 1"
   ]
  },
  {
   "cell_type": "code",
   "execution_count": null,
   "metadata": {
    "id": "2JcpAVbvQd1w"
   },
   "outputs": [],
   "source": [
    "# Example 1\n",
    "# ---\n",
    "# Question: Create a list named fish and store it with values of different types of fish\n",
    "# ---\n",
    "#\n",
    "\n",
    "# Defining our list\n",
    "fish = [\"salmon\", \"star fish\", \"tilapia\", \"sword fish\"]\n",
    "\n",
    "# Printing our result\n",
    "print(fish)"
   ]
  },
  {
   "cell_type": "markdown",
   "metadata": {
    "id": "sVrIv1ucRAtY"
   },
   "source": [
    "##### <font color=\"blue\">Example 2"
   ]
  },
  {
   "cell_type": "code",
   "execution_count": null,
   "metadata": {
    "id": "aI4qEeumRCRr"
   },
   "outputs": [],
   "source": [
    "# Example 2\n",
    "# ---\n",
    "# Question: Add elements to a list\n",
    "# ---\n",
    "#\n",
    "\n",
    "# Adding the fish \"gold fish\" to our fish list\n",
    "# ---\n",
    "#\n",
    "fish.append(\"gold fish\")\n",
    "\n",
    "# Printing our result\n",
    "# ---\n",
    "#\n",
    "print(fish)"
   ]
  },
  {
   "cell_type": "markdown",
   "metadata": {
    "id": "xaLN8jeYRDll"
   },
   "source": [
    "##### <font color=\"blue\">Example 3"
   ]
  },
  {
   "cell_type": "code",
   "execution_count": null,
   "metadata": {
    "id": "eqHEZSfYRE_X"
   },
   "outputs": [],
   "source": [
    "# Example 3\n",
    "# ---\n",
    "# Question: updating an element in a list\n",
    "# ---\n",
    "#\n",
    "fish[2] = \"nile tipalia\"\n",
    "\n",
    "# Printing our result\n",
    "# ---\n",
    "#\n",
    "print(fish)"
   ]
  },
  {
   "cell_type": "markdown",
   "metadata": {
    "id": "dGKEWiBwTVFM"
   },
   "source": [
    "##### <font color=\"blue\">Example 4"
   ]
  },
  {
   "cell_type": "code",
   "execution_count": null,
   "metadata": {
    "id": "JTi3KkzITYk8"
   },
   "outputs": [],
   "source": [
    "# Example 4\n",
    "# ---\n",
    "# Question: Remove an element from a list\n",
    "# ---\n",
    "#\n",
    "fish.remove(\"gold fish\")\n",
    "\n",
    "# Printing our result\n",
    "# ---\n",
    "#\n",
    "print(fish)"
   ]
  },
  {
   "cell_type": "markdown",
   "metadata": {
    "id": "WnXWTn9WTaJs"
   },
   "source": [
    "##### <font color=\"blue\">Example 5"
   ]
  },
  {
   "cell_type": "code",
   "execution_count": null,
   "metadata": {
    "id": "3o416dxITbNq"
   },
   "outputs": [],
   "source": [
    "# Example 5\n",
    "# ---\n",
    "# Question: Slice the restaurant list to fetch specific elements in a list\n",
    "# ---\n",
    "#\n",
    "\n",
    "# Getting the first element in the list as shown\n",
    "# ---\n",
    "#\n",
    "print(fish[0])\n",
    "\n",
    "# Getting the first two elements in the list as shown\n",
    "# ---\n",
    "#\n",
    "print(fish[0:2])"
   ]
  },
  {
   "cell_type": "markdown",
   "metadata": {
    "id": "qcpLR3a_XPLd"
   },
   "source": [
    "# 5. Conditional (If) Statements"
   ]
  },
  {
   "cell_type": "markdown",
   "metadata": {
    "id": "zw4tIKRGkNci"
   },
   "source": [
    "**Conditional if** statements are used for decision making. They will run code if only when if the statement is true. In general, we use conditional (if) statements to execute a certain part of code if a condition is satisfied."
   ]
  },
  {
   "cell_type": "markdown",
   "metadata": {
    "id": "EnaCUxpRXT0J"
   },
   "source": [
    "#### <font color=\"blue\">Examples</font>"
   ]
  },
  {
   "cell_type": "markdown",
   "metadata": {
    "id": "ZX5LhYDuXV2O"
   },
   "source": [
    "##### <font color=\"blue\">Example 1"
   ]
  },
  {
   "cell_type": "code",
   "execution_count": null,
   "metadata": {
    "id": "f9y3Gs_0XF9d"
   },
   "outputs": [],
   "source": [
    "# Example 1\n",
    "# ---\n",
    "# Question: How do we use the If keyword?\n",
    "# ---\n",
    "#\n",
    "\n",
    "# We first declare our variables\n",
    "p = 500\n",
    "q = 100\n",
    "\n",
    "# Then we use the if keyword as shown. (We need to watchout for the white spaces)\n",
    "if q < p:\n",
    "  print(\"q is less than p\")"
   ]
  },
  {
   "cell_type": "markdown",
   "metadata": {
    "id": "7vliBrC5Xk65"
   },
   "source": [
    "##### <font color=\"blue\">Example 2"
   ]
  },
  {
   "cell_type": "code",
   "execution_count": null,
   "metadata": {
    "id": "HChmx56TXl3j"
   },
   "outputs": [],
   "source": [
    "# Example 2\n",
    "# ---\n",
    "# Question: How can we use the Elif keyword?\n",
    "# ---\n",
    "#\n",
    "r = 100\n",
    "s = 100\n",
    "\n",
    "p = 500\n",
    "q = 100\n",
    "\n",
    "if s < r:\n",
    "  if q < p:\n",
    "    print(\"y is less than x\")\n",
    "elif r == s:\n",
    "  print(\"r and s are equal\")"
   ]
  },
  {
   "cell_type": "markdown",
   "metadata": {
    "id": "0xG8q15EXnW_"
   },
   "source": [
    "##### <font color=\"blue\">Example 3"
   ]
  },
  {
   "cell_type": "code",
   "execution_count": null,
   "metadata": {
    "id": "jxac2rfpXpws"
   },
   "outputs": [],
   "source": [
    "# Example 3\n",
    "# ---\n",
    "# Question: How can we use the Else keyword?\n",
    "# ---\n",
    "#\n",
    "\n",
    "# Declaring our variables\n",
    "a = 150\n",
    "b = 50\n",
    "\n",
    "# Then using our else keyword\n",
    "if b > a:\n",
    "  print(\"b is greater than a\")\n",
    "elif a == b:\n",
    "  print(\"a and b are equal\")\n",
    "else:\n",
    "  print(\"a is greater than b\")"
   ]
  },
  {
   "cell_type": "markdown",
   "metadata": {
    "id": "wW6zZPzHpPkw"
   },
   "source": [
    "# 6. For Loops"
   ]
  },
  {
   "cell_type": "markdown",
   "metadata": {
    "id": "IECi4wbVkjWe"
   },
   "source": [
    "A **for loop** is a control flow statement that allows code to be executed repeatedly. The are used to iterate over a sequence i.e. list, dictionary, string,\n",
    "etc. They can also be used to repeat a specific block of code a known number of times."
   ]
  },
  {
   "cell_type": "markdown",
   "metadata": {
    "id": "Tj7-43EzpXKP"
   },
   "source": [
    "#### <font color=\"blue\">Examples</font>"
   ]
  },
  {
   "cell_type": "markdown",
   "metadata": {
    "id": "8TToTfDxpcsC"
   },
   "source": [
    "##### <font color=\"blue\">Example 1"
   ]
  },
  {
   "cell_type": "code",
   "execution_count": null,
   "metadata": {
    "id": "KQjf-iXjpdoW"
   },
   "outputs": [],
   "source": [
    "# Example 1\n",
    "# ---\n",
    "# Question: Use a break statement to stop the loop before it continues its iteration\n",
    "# ---\n",
    "#\n",
    "\n",
    "# Let's print out the restaurants list that we had created earlier on\n",
    "restaurants = [\"cj's\", \"Java\", \"Nyama Mama\", \"Italian\", \"Viridian\", \"Khosa\"]\n",
    "\n",
    "# Looping and using a break statement\n",
    "for x in restaurants:\n",
    "  print(x)\n",
    "  if x == \"Viridian\":\n",
    "    break"
   ]
  },
  {
   "cell_type": "markdown",
   "metadata": {
    "id": "O0n2jmlupeUe"
   },
   "source": [
    "##### <font color=\"blue\">Example 2"
   ]
  },
  {
   "cell_type": "code",
   "execution_count": null,
   "metadata": {
    "id": "cwraj51ZpfqH"
   },
   "outputs": [],
   "source": [
    "# Example 2\n",
    "# ---\n",
    "# Question: Use a continue statement to stop the current iteration of the loop\n",
    "# and continue the next section of our code\n",
    "# ---\n",
    "#\n",
    "\n",
    "# Creating a list\n",
    "mobile_phone = [\"iphone 4\", \"iphone 5\", \"iphone 6\", \"iphone 7\", \"iphone 8\", \"iphone x\", \"iphone xs\"]\n",
    "\n",
    "# Using a for loop\n",
    "for x in mobile_phone:\n",
    "    if x == 'iphone 6' or x == 'iphone 8':\n",
    "         continue\n",
    "    print('Checked Phone :', x)"
   ]
  },
  {
   "cell_type": "markdown",
   "metadata": {
    "id": "rYrnAuYBryYC"
   },
   "source": [
    "# 7. Functions"
   ]
  },
  {
   "cell_type": "markdown",
   "metadata": {
    "id": "Y9MWH15wkq7e"
   },
   "source": [
    "A **function** is a block of organized, reusable code. We use functions to bundle a set of instructions that you want to use repeatedly."
   ]
  },
  {
   "cell_type": "markdown",
   "metadata": {
    "id": "WOi0gv2Dr83t"
   },
   "source": [
    "#### <font color=\"blue\">Examples</font>"
   ]
  },
  {
   "cell_type": "markdown",
   "metadata": {
    "id": "GgSYzCUYsCWG"
   },
   "source": [
    "##### <font color=\"blue\">Example 1"
   ]
  },
  {
   "cell_type": "code",
   "execution_count": null,
   "metadata": {
    "id": "0zJ1kn1BrwkV"
   },
   "outputs": [],
   "source": [
    "# Example 1\n",
    "# ---\n",
    "# Let's use built-in functions\n",
    "# ---\n",
    "# YOUR CODE GOES BELOW\n",
    "#\n",
    "\n",
    "# The max() function will return the item with the highest value as shown\n",
    "# in the given list\n",
    "a = [23, 22, 55, 23, 44]\n",
    "x = max(a)\n",
    "print(x)\n",
    "\n",
    "# Using the max() function, we can return the item with the highest value alphabetically\n",
    "y = max([\"Susan\", \"Grace\", \"Simon\"])\n",
    "print(y)"
   ]
  },
  {
   "cell_type": "markdown",
   "metadata": {
    "id": "-bAG0iH2sDiV"
   },
   "source": [
    "##### <font color=\"blue\">Example 2"
   ]
  },
  {
   "cell_type": "code",
   "execution_count": null,
   "metadata": {
    "id": "0YQ7eSTvsEZP"
   },
   "outputs": [],
   "source": [
    "# Example 2\n",
    "# ---\n",
    "# Let's create a function to find out which of two numbers is greater than the other\n",
    "# ---\n",
    "# YOUR CODE GOES BELOW\n",
    "#\n",
    "\n",
    "# we define it by giving it the name max_of_two\n",
    "def max_of_two():\n",
    "\n",
    "  # we then define our variables that will contain the numbers to be manipulated\n",
    "  first_number  = 10\n",
    "  second_number = 5\n",
    "\n",
    "  # then we perform our operations i.e. in this case,\n",
    "  # if first_number is greater than second_number etc.\n",
    "  if first_number > second_number:\n",
    "\n",
    "      # the return keyword allows us to provide back the result/output of our function\n",
    "    return first_number\n",
    "\n",
    "    # the return key word allows us to provide back the result/output of our function\n",
    "  return second_number\n",
    "\n",
    "# Lastly, we do the most important step; which is to call the function that\n",
    "# we have just created above. Calling allows us to use the function.\n",
    "# We have also been calling our built-in functions from the previous section.\n",
    "#\n",
    "max_of_two()"
   ]
  },
  {
   "cell_type": "markdown",
   "metadata": {
    "id": "9CmmKblQZJys"
   },
   "source": [
    "##  End"
   ]
  }
 ],
 "metadata": {
  "colab": {
   "collapsed_sections": [
    "UMNPnf2i5SWr",
    "DJeVFrBtw_kA",
    "AZaNOe10xhBd",
    "T8474dmmmBii",
    "KoqcSYwQxtRK",
    "b93FPbs0xuLv",
    "1KGAN1h-rhUT",
    "6mfDGqy38176",
    "BDggmS7ur3Wg",
    "qOcy-X35HV_t",
    "HX5OKWTeH3y7",
    "V3vakOO6H9Vh",
    "RMTv6MI1IIT_",
    "HHygJvHMIPgh",
    "dqhVm_8kN2tl",
    "qIxhQwTHOIjm",
    "JdKpybEFOJOM",
    "XJoETlR_OKHt",
    "8w3U0HVEOccy",
    "r6CjXb92QsKs",
    "_We_Aif3Q_n5",
    "sVrIv1ucRAtY",
    "xaLN8jeYRDll",
    "dGKEWiBwTVFM",
    "WnXWTn9WTaJs",
    "qcpLR3a_XPLd",
    "EnaCUxpRXT0J",
    "ZX5LhYDuXV2O",
    "7vliBrC5Xk65",
    "0xG8q15EXnW_",
    "hdEWP1SNnFHp",
    "_TGroESwnRos",
    "TbJ6OFKqnUTy",
    "HxuW_VVCnVgw",
    "8LarnuTTnalz",
    "VSxz3OK9nb4P",
    "_xf8ei3mnc3-",
    "wW6zZPzHpPkw",
    "Tj7-43EzpXKP",
    "8TToTfDxpcsC",
    "O0n2jmlupeUe",
    "rYrnAuYBryYC",
    "WOi0gv2Dr83t",
    "GgSYzCUYsCWG",
    "-bAG0iH2sDiV"
   ],
   "provenance": []
  },
  "hide_input": false,
  "kernelspec": {
   "display_name": "Python 3 (ipykernel)",
   "language": "python",
   "name": "python3"
  },
  "language_info": {
   "codemirror_mode": {
    "name": "ipython",
    "version": 3
   },
   "file_extension": ".py",
   "mimetype": "text/x-python",
   "name": "python",
   "nbconvert_exporter": "python",
   "pygments_lexer": "ipython3",
   "version": "3.11.4"
  }
 },
 "nbformat": 4,
 "nbformat_minor": 1
}
